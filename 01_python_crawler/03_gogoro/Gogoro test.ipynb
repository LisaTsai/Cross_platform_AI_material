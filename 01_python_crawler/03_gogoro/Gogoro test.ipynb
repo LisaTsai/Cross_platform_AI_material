{
 "cells": [
  {
   "cell_type": "code",
   "execution_count": 1,
   "metadata": {},
   "outputs": [
    {
     "name": "stderr",
     "output_type": "stream",
     "text": [
      "IOPub data rate exceeded.\n",
      "The notebook server will temporarily stop sending output\n",
      "to the client in order to avoid crashing it.\n",
      "To change this limit, set the config variable\n",
      "`--NotebookApp.iopub_data_rate_limit`.\n",
      "\n",
      "Current values:\n",
      "NotebookApp.iopub_data_rate_limit=1000000.0 (bytes/sec)\n",
      "NotebookApp.rate_limit_window=3.0 (secs)\n",
      "\n"
     ]
    }
   ],
   "source": [
    "'''\n",
    "import sys\n",
    "!{sys.executable} -m pip install demjson\n",
    "!{sys.executable} -m pip install geocoder\n",
    "import demjson\n",
    "'''\n",
    "##json file source : https://wapi.gogoro.com/tw/api/vm/list\n",
    "\n",
    "import json\n",
    "import re\n",
    "import geocoder\n",
    "g = geocoder.ip('me')\n",
    "print(g.latlng[0])\n",
    "print(g.latlng[1])\n",
    "mylat = g.latlng[0]\n",
    "mylon = g.latlng[1]\n",
    "gogoro_battery = []\n",
    "with open('list.json') as reader:\n",
    "    json_file = json.loads(reader.read())\n",
    "    #print(json_file)\n",
    "    \n",
    "    for p in json_file['data']:\n",
    "        #print(p)\n",
    "        #print(p['LocName'])\n",
    "        \n",
    "        _list = re.split('\\\"',p['LocName'])\n",
    "        #print(\"Location Name : \"+_list[13]+\" / \"+ _list[5])\n",
    "        loc_EN=_list[5]\n",
    "        loc_ZH=_list[13]\n",
    "        #print('Latitude: ' + str(p['Latitude']))\n",
    "        lat = p['Latitude']\n",
    "        #print('Longitude: ' + str(p['Longitude']))\n",
    "        lon = p['Longitude']\n",
    "        #print('ZipCode: ' + p['ZipCode'])\n",
    "        zipcode = p['ZipCode']\n",
    "        #print('Address: ' + p['Address'])\n",
    "        _list = re.split('\\\"',p['Address'])\n",
    "        #print(\"Address : \"+_list[13]+\" / \"+ _list[5])\n",
    "        addre_EN =_list[5]\n",
    "        addre_ZH =_list[13]\n",
    "        #print('District: ' + p['District'])\n",
    "        #print('City: ' + p['City'])\n",
    "        _list = re.split('\\\"',p['District'])\n",
    "        #print(\"District : \"+ _list[13]+\" / \"+_list[5])\n",
    "        dist_EN = _list[5]\n",
    "        dist_ZH = _list[13]\n",
    "        _list = re.split('\\\"',p['City'])\n",
    "        #print(\"City : \"+ _list[13]+\" / \"+_list[5])\n",
    "        city_EN = _list[5]\n",
    "        city_ZH = _list[13] \n",
    "        #print('AvailableTime: ' + p['AvailableTime'])\n",
    "        avail_t = p['AvailableTime']\n",
    "        #print('--------------------')\n",
    "        gogoro_battery.append({\n",
    "                        'loc_EN':loc_EN,\n",
    "                        'loc_ZH': loc_ZH,\n",
    "                        'lat': lat,\n",
    "                        'lon': lon,\n",
    "                        'zipcode' : zipcode,\n",
    "                        'addre_EN' : addre_EN,\n",
    "                        'addre_ZH': addre_ZH,\n",
    "                        'dist_EN': dist_EN,\n",
    "                        'dist_ZH': dist_ZH,\n",
    "                        'city_EN': city_EN,\n",
    "                        'city_ZH' : city_ZH,\n",
    "                        'avail_t' : avail_t,\n",
    "                    })\n",
    "        print (gogoro_battery)\n",
    "        "
   ]
  },
  {
   "cell_type": "code",
   "execution_count": null,
   "metadata": {},
   "outputs": [],
   "source": [
    "nearest_val = 9999\n",
    "nearest_store = []\n",
    "for store in gogoro_battery:\n",
    "    dis = (mylat-store['lat'])**2+(mylon-store['lon'])**2\n",
    "    if dis < nearest_val:\n",
    "        nearest_val = dis\n",
    "        nearest_store = store\n",
    "print(\"The recommanded nearest gogoro battery stop is as below: \")\n",
    "print(nearest_store)"
   ]
  }
 ],
 "metadata": {
  "kernelspec": {
   "display_name": "Python 3",
   "language": "python",
   "name": "python3"
  },
  "language_info": {
   "codemirror_mode": {
    "name": "ipython",
    "version": 3
   },
   "file_extension": ".py",
   "mimetype": "text/x-python",
   "name": "python",
   "nbconvert_exporter": "python",
   "pygments_lexer": "ipython3",
   "version": "3.7.4"
  }
 },
 "nbformat": 4,
 "nbformat_minor": 2
}
