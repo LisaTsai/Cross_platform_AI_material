{
 "cells": [
  {
   "cell_type": "markdown",
   "metadata": {
    "colab_type": "text",
    "id": "5t7uUjFInX4O"
   },
   "source": [
    "# 神經網路的資料表示法"
   ]
  },
  {
   "cell_type": "markdown",
   "metadata": {
    "colab_type": "text",
    "id": "1SZpoVV3tRdh"
   },
   "source": [
    "### 1. 匯入numpy 函式庫"
   ]
  },
  {
   "cell_type": "code",
   "execution_count": 2,
   "metadata": {
    "colab": {
     "base_uri": "https://localhost:8080/",
     "height": 34
    },
    "colab_type": "code",
    "id": "YhpPePfQsc_e",
    "outputId": "afb22203-7f26-4ecb-e31c-5d453d6d30bf"
   },
   "outputs": [],
   "source": [
    "import numpy as np"
   ]
  },
  {
   "cell_type": "markdown",
   "metadata": {},
   "source": [
    "### 2. 比較 0D/1D/2D/3D 張量 "
   ]
  },
  {
   "cell_type": "code",
   "execution_count": 15,
   "metadata": {
    "colab": {
     "base_uri": "https://localhost:8080/",
     "height": 34
    },
    "colab_type": "code",
    "id": "-OaapxgHsc0l",
    "outputId": "bd60569c-5a80-46b8-8400-6586e14624fa"
   },
   "outputs": [
    {
     "name": "stdout",
     "output_type": "stream",
     "text": [
      "20\n",
      "\n",
      "()\n",
      "\n",
      "tensor_0d的階數為0\n"
     ]
    }
   ],
   "source": [
    "#0D張量-純量\n",
    "\n",
    "tensor_0d = np.array(20)     \n",
    "print(tensor_0d)\n",
    "print(\"\\n\"+str(tensor_0d.shape))\n",
    "print(\"\\ntensor_0d的階數為\"+str(tensor_0d.ndim))"
   ]
  },
  {
   "cell_type": "code",
   "execution_count": 16,
   "metadata": {
    "colab": {
     "base_uri": "https://localhost:8080/",
     "height": 34
    },
    "colab_type": "code",
    "id": "L0GldZ5Rtjt2",
    "outputId": "e8667633-0974-4029-d742-2424b4fd88bb"
   },
   "outputs": [
    {
     "name": "stdout",
     "output_type": "stream",
     "text": [
      "[ 1  4  9 16 25]\n",
      "\n",
      "(5,)\n",
      "\n",
      "tensor_1d的階數為1\n"
     ]
    }
   ],
   "source": [
    "#1D張量-向量\n",
    "\n",
    "tensor_1d = np.array([1, 4, 9, 16, 25])     \n",
    "print(tensor_1d)\n",
    "print(\"\\n\"+str(tensor_1d.shape))\n",
    "print(\"\\ntensor_1d的階數為\"+str(tensor_1d.ndim))"
   ]
  },
  {
   "cell_type": "code",
   "execution_count": 17,
   "metadata": {
    "colab": {},
    "colab_type": "code",
    "id": "mheFp73rt3no"
   },
   "outputs": [
    {
     "name": "stdout",
     "output_type": "stream",
     "text": [
      "[[ 1  3  5  7  9]\n",
      " [ 2  6 10 14 18]\n",
      " [ 4 12 20 28 36]\n",
      " [ 8 24 40 56 72]]\n",
      "\n",
      "(4, 5)\n",
      "\n",
      "tensor_2d的階數為2\n"
     ]
    }
   ],
   "source": [
    "#2D張量-矩陣\n",
    "\n",
    "tensor_2d = np.array([[1, 3, 5, 7, 9],    \n",
    "                      [2, 6, 10, 14, 18],\n",
    "                      [4, 12, 20, 28, 36],\n",
    "                      [8, 24, 40, 56, 72]])    \n",
    "print(tensor_2d)\n",
    "print(\"\\n\"+str(tensor_2d.shape))\n",
    "print(\"\\ntensor_2d的階數為\"+str(tensor_2d.ndim))"
   ]
  },
  {
   "cell_type": "code",
   "execution_count": 14,
   "metadata": {
    "colab": {},
    "colab_type": "code",
    "id": "6TZl84DWtovP"
   },
   "outputs": [
    {
     "name": "stdout",
     "output_type": "stream",
     "text": [
      "[[[  5  78   2  34   0]\n",
      "  [  2   8   4  36   2]]\n",
      "\n",
      " [[ 55   8   9  24   0]\n",
      "  [  3   8   4 326   1]]\n",
      "\n",
      " [[  4  78   2 134   2]\n",
      "  [  5  21  23  56   3]]]\n",
      "\n",
      "(3, 2, 5)\n",
      "\n",
      "tensor_3d的階數為3\n"
     ]
    }
   ],
   "source": [
    "#3D張量\n",
    "\n",
    "tensor_3d = np.array([[[5, 78, 2, 34, 0],         \n",
    "                    [2, 8, 4, 36, 2]],\n",
    "                   [[55, 8, 9, 24, 0],\n",
    "                    [3, 8, 4, 326, 1]],\n",
    "                   [[4, 78, 2, 134, 2],\n",
    "                    [5, 21, 23, 56, 3]]])\n",
    "print(tensor_3d)\n",
    "print(\"\\n\"+str(tensor_3d.shape))\n",
    "print(\"\\ntensor_3d的階數為\"+str(tensor_3d.ndim))"
   ]
  },
  {
   "cell_type": "markdown",
   "metadata": {
    "colab_type": "text",
    "id": "adiZCeFXWpoY"
   },
   "source": [
    "### 3. 調整張量改變取用影像資料量"
   ]
  },
  {
   "cell_type": "code",
   "execution_count": 23,
   "metadata": {
    "colab": {
     "base_uri": "https://localhost:8080/",
     "height": 34
    },
    "colab_type": "code",
    "id": "h2L-UqmZWxF_",
    "outputId": "b325a636-1f3e-4701-daa5-95c153596dbc"
   },
   "outputs": [
    {
     "name": "stdout",
     "output_type": "stream",
     "text": [
      "(50, 28, 28)\n"
     ]
    }
   ],
   "source": [
    "from keras.datasets import mnist  \n",
    "(train_images, train_labels), (test_images, test_labels) = mnist.load_data()\n",
    "\n",
    "#只取train_images的第50-99份影像資料\n",
    "my_slice = train_images[50:100]\n",
    "\n",
    "#也可以這樣寫\n",
    "#my_slice = train_images[50:100, :, :] \n",
    "#或是這樣寫\n",
    "#my_slice = train_images[10:100, 0:28, 0:28]\n",
    "\n",
    "print(my_slice.shape)"
   ]
  },
  {
   "cell_type": "markdown",
   "metadata": {
    "colab_type": "text",
    "id": "IUu1LtqcXoi6"
   },
   "source": [
    "### 4. 資料批次 (batch) "
   ]
  },
  {
   "cell_type": "code",
   "execution_count": 0,
   "metadata": {
    "colab": {},
    "colab_type": "code",
    "id": "8Dhip5ggW-wb"
   },
   "outputs": [],
   "source": [
    "batch = train_images[:128]  #把 train_images 切片為 128 個圖像為一批 batch"
   ]
  },
  {
   "cell_type": "code",
   "execution_count": 0,
   "metadata": {
    "colab": {},
    "colab_type": "code",
    "id": "pRg1OTyKW-tz"
   },
   "outputs": [],
   "source": [
    "batch = train_images[128:256]"
   ]
  },
  {
   "cell_type": "code",
   "execution_count": 0,
   "metadata": {
    "colab": {},
    "colab_type": "code",
    "id": "ICLO1H0lW-q7"
   },
   "outputs": [],
   "source": [
    "# 可以修改程式的 n 值, 找到你想測試的批次量\n",
    "#batch = train_images[128 * n:128 * (n + 1)]"
   ]
  },
  {
   "cell_type": "markdown",
   "metadata": {
    "colab_type": "text",
    "id": "rgEUZjCkbg-O"
   },
   "source": [
    "# 張量運算"
   ]
  },
  {
   "cell_type": "markdown",
   "metadata": {
    "colab_type": "text",
    "id": "LG8X4vgocgbI"
   },
   "source": [
    "### 5. 相加、Relu"
   ]
  },
  {
   "cell_type": "code",
   "execution_count": null,
   "metadata": {},
   "outputs": [],
   "source": [
    "import numpy as np\n",
    "\n",
    "z = x + y  \n",
    "\n",
    "z = np.maximum(z, 0.) "
   ]
  },
  {
   "cell_type": "code",
   "execution_count": 0,
   "metadata": {
    "colab": {},
    "colab_type": "code",
    "id": "xtQ24Ouwtoa8"
   },
   "outputs": [],
   "source": [
    "def naive_add(x, y):\n",
    "    assert len(x.shape) == 2  \n",
    "    assert x.shape == y.shape\n",
    "    \n",
    "    x = x.copy()\n",
    "    for i in range(x.shape[0]):\n",
    "        for j in range(x.shape[1]):\n",
    "            x[i, j] += y[i, j]\n",
    "            #同等於 x[i, j] = x[i, j] + y[i, j]\n",
    "    return x"
   ]
  },
  {
   "cell_type": "code",
   "execution_count": 0,
   "metadata": {
    "colab": {},
    "colab_type": "code",
    "id": "fXtReEkocrn6"
   },
   "outputs": [],
   "source": [
    "def naive_relu(x):\n",
    "    assert len(x.shape) == 2   \n",
    "\n",
    "    x = x.copy()  #避免覆寫到輸入張量\n",
    "    for i in range(x.shape[0]):\n",
    "        for j in range(x.shape[1]):\n",
    "            x[i, j] = max(x[i, j], 0)\n",
    "    return x"
   ]
  },
  {
   "cell_type": "markdown",
   "metadata": {
    "colab_type": "text",
    "id": "EWkekCucdeMH"
   },
   "source": [
    "### 6. 張量擴張 (Broadcasting)"
   ]
  },
  {
   "cell_type": "code",
   "execution_count": 0,
   "metadata": {
    "colab": {},
    "colab_type": "code",
    "id": "E9hhJAsZtoTn"
   },
   "outputs": [],
   "source": [
    "def naive_add_matrix_and_vector(x, y):\n",
    "    assert len(x.shape) == 2  \n",
    "    assert len(y.shape) == 1  \n",
    "    assert x.shape[1] == y.shape[0]\n",
    "\n",
    "    x = x.copy() \n",
    "    for i in range(x.shape[0]):\n",
    "        for j in range(x.shape[1]):\n",
    "            x[i, j] += y[j]\n",
    "    return x"
   ]
  },
  {
   "cell_type": "code",
   "execution_count": 24,
   "metadata": {
    "colab": {
     "base_uri": "https://localhost:8080/",
     "height": 34
    },
    "colab_type": "code",
    "id": "OfQe14gwdsES",
    "outputId": "851b3dc2-9cf2-4f73-ccbc-0f93ea57412b"
   },
   "outputs": [
    {
     "data": {
      "text/plain": [
       "(4, 3, 32, 10)"
      ]
     },
     "execution_count": 24,
     "metadata": {},
     "output_type": "execute_result"
    }
   ],
   "source": [
    "import numpy as np\n",
    "\n",
    "#創造隨機張量\n",
    "x = np.random.random((4, 3, 32, 10))  \n",
    "y = np.random.random((32, 10)) \n",
    "\n",
    "z = np.maximum(x, y)  # z 的 shape 同 x， y 已先被擴張了\n",
    "z.shape"
   ]
  },
  {
   "cell_type": "markdown",
   "metadata": {
    "colab_type": "text",
    "id": "0JVcuZdtd1N8"
   },
   "source": [
    "### 7. 張量點積 (dot) 運算"
   ]
  },
  {
   "cell_type": "code",
   "execution_count": 4,
   "metadata": {
    "colab": {},
    "colab_type": "code",
    "id": "b7lt13KMd4T6"
   },
   "outputs": [],
   "source": [
    "import numpy as np\n",
    "\n",
    "z = np.dot(x, y)  "
   ]
  },
  {
   "cell_type": "code",
   "execution_count": 0,
   "metadata": {
    "colab": {},
    "colab_type": "code",
    "id": "jM0G99stLCgV"
   },
   "outputs": [],
   "source": [
    "def naive_vector_dot(x, y):\n",
    "    assert len(x.shape) == 1\n",
    "    assert len(y.shape) == 1  \n",
    "    assert x.shape[0] == y.shape[0]\n",
    "    z = 0.\n",
    "    for i in range(x.shape[0]):\n",
    "        z += x[i] * y[i]  # x[0]*y[0] + x[1]*y[1] + x[2]*y[2] + x[3]*y[3]….\n",
    "    return z"
   ]
  },
  {
   "cell_type": "code",
   "execution_count": 0,
   "metadata": {
    "colab": {},
    "colab_type": "code",
    "id": "-f6XmXAdLCcF"
   },
   "outputs": [],
   "source": [
    "import numpy as np\n",
    "\n",
    "def naive_matrix_vector_dot(x, y):\n",
    "    assert len(x.shape) == 2\n",
    "    assert len(y.shape) == 1\n",
    "    assert x.shape[1] == y.shape[0]\n",
    "\n",
    "    z = np.zeros(x.shape[0])        # z 為與 x 第0軸形狀一樣, 數值為 0 的向量\n",
    "    for i in range(x.shape[0]):\n",
    "        for j in range(x.shape[1]):\n",
    "            z[i] += x[i, j] * y[j]               # z 的各元素值已被內層 for loop 填入了\n",
    "    return z"
   ]
  },
  {
   "cell_type": "code",
   "execution_count": 0,
   "metadata": {
    "colab": {},
    "colab_type": "code",
    "id": "NWdmN8RxLCWT"
   },
   "outputs": [],
   "source": [
    "def naive_matrix_vector_dot(x, y):      #這是一個矩陣-向量的點積運算\n",
    "    z = np.zeros(x.shape[0])\n",
    "    for i in range(x.shape[0]):\n",
    "        z[i] = naive_vector_dot(x[i, :], y)        #內部包著一個向量-向量的點積運算\n",
    "    return z"
   ]
  },
  {
   "cell_type": "code",
   "execution_count": 0,
   "metadata": {
    "colab": {},
    "colab_type": "code",
    "id": "TuRioBZvOxAl"
   },
   "outputs": [],
   "source": [
    "def naive_matrix_dot(x, y):\n",
    "    assert len(x.shape) == 2\n",
    "    assert len(y.shape) == 2\n",
    "    assert x.shape[1] == y.shape[0]    #  x 的第 1 維的數量必須與 y 第 0 維的數量相等\n",
    "\n",
    "    z = np.zeros((x.shape[0], y.shape[1])) \n",
    "    for i in range(x.shape[0]):\n",
    "        for j in range(y.shape[1]):    #重複計算 x 各列數值與 y 各行數值\n",
    "            row_x = x[i, :]\n",
    "            column_y = y[:, j]\n",
    "            z[i, j] = naive_vector_dot(row_x, column_y)\n",
    "    return z"
   ]
  },
  {
   "cell_type": "markdown",
   "metadata": {
    "colab_type": "text",
    "id": "FDYwhM6V29Sm"
   },
   "source": [
    "### 8. 張量重塑"
   ]
  },
  {
   "cell_type": "code",
   "execution_count": 5,
   "metadata": {
    "colab": {
     "base_uri": "https://localhost:8080/",
     "height": 34
    },
    "colab_type": "code",
    "id": "o0FZCzMQfCM0",
    "outputId": "95a28e00-8160-41a5-ada3-439ddcf3e7fc"
   },
   "outputs": [
    {
     "name": "stdout",
     "output_type": "stream",
     "text": [
      "(3, 2)\n"
     ]
    }
   ],
   "source": [
    "x = np.array([[10, 11], \n",
    "              [20, 22],\n",
    "              [30, 33]])\n",
    "print(x.shape)"
   ]
  },
  {
   "cell_type": "code",
   "execution_count": 35,
   "metadata": {
    "colab": {
     "base_uri": "https://localhost:8080/",
     "height": 119
    },
    "colab_type": "code",
    "id": "_H6tyfwEfCKK",
    "outputId": "8945228b-bd99-4149-ed87-bbad20ca6d01"
   },
   "outputs": [
    {
     "name": "stdout",
     "output_type": "stream",
     "text": [
      "[[10]\n",
      " [11]\n",
      " [20]\n",
      " [22]\n",
      " [30]\n",
      " [33]]\n"
     ]
    }
   ],
   "source": [
    "x = x.reshape((6, 1))  \n",
    "print(x)"
   ]
  },
  {
   "cell_type": "code",
   "execution_count": 8,
   "metadata": {
    "colab": {
     "base_uri": "https://localhost:8080/",
     "height": 51
    },
    "colab_type": "code",
    "id": "z9AQmPiofCHa",
    "outputId": "3baf97cc-506b-4018-f3f0-c64a0f7700cb"
   },
   "outputs": [
    {
     "name": "stdout",
     "output_type": "stream",
     "text": [
      "(20, 300)\n"
     ]
    }
   ],
   "source": [
    "x = np.zeros((300, 20))  \n",
    "x = np.transpose(x)\n",
    "print(x.shape)"
   ]
  },
  {
   "cell_type": "code",
   "execution_count": 9,
   "metadata": {},
   "outputs": [
    {
     "name": "stdout",
     "output_type": "stream",
     "text": [
      "[[10 11 20]\n",
      " [22 30 33]]\n",
      "[[10 20 30]\n",
      " [11 22 33]]\n"
     ]
    }
   ],
   "source": [
    "x = np.array([[10, 11], \n",
    "              [20, 22],\n",
    "              [30, 33]])\n",
    "\n",
    "re_x = x.reshape((2, 3)) \n",
    "print(re_x)\n",
    "tr_x = np.transpose(x)\n",
    "print(tr_x)"
   ]
  },
  {
   "cell_type": "code",
   "execution_count": null,
   "metadata": {},
   "outputs": [],
   "source": []
  }
 ],
 "metadata": {
  "accelerator": "TPU",
  "colab": {
   "name": "Ch02.ipynb",
   "provenance": [],
   "version": "0.3.2"
  },
  "kernelspec": {
   "display_name": "Python 3",
   "language": "python",
   "name": "python3"
  },
  "language_info": {
   "codemirror_mode": {
    "name": "ipython",
    "version": 3
   },
   "file_extension": ".py",
   "mimetype": "text/x-python",
   "name": "python",
   "nbconvert_exporter": "python",
   "pygments_lexer": "ipython3",
   "version": "3.7.4"
  }
 },
 "nbformat": 4,
 "nbformat_minor": 1
}
